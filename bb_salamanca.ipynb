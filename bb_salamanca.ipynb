{
 "cells": [
  {
   "cell_type": "markdown",
   "metadata": {},
   "source": [
    "# Hector Salamanca: CS algorithms and information theory"
   ]
  },
  {
   "cell_type": "markdown",
   "metadata": {},
   "source": [
    "### Method 1: Linear search"
   ]
  },
  {
   "cell_type": "code",
   "execution_count": 144,
   "metadata": {},
   "outputs": [
    {
     "name": "stdout",
     "output_type": "stream",
     "text": [
      "['0', '1', '2', '3', '4', '5', '6', '7', '8', '9', 'a', 'b', 'c', 'd', 'e', 'f', 'g', 'h', 'i', 'j', 'k', 'l', 'm', 'n', 'o', 'p', 'q', 'r', 's', 't', 'u', 'v', 'w', 'x', 'y', 'z']\n"
     ]
    }
   ],
   "source": [
    "\"\"\" SETUP \"\"\"\n",
    "alphabet = [chr(x) for x in range(48, 58)] + [chr(x) for x in range(97, 123)]\n",
    "print(alphabet)"
   ]
  },
  {
   "cell_type": "code",
   "execution_count": 145,
   "metadata": {},
   "outputs": [
    {
     "name": "stdout",
     "output_type": "stream",
     "text": [
      "['a', 'z', '6', '0', '0', 'e', 't', '2']\n",
      "['m', 'w', 'c', '4', 'p', 'p', 'd', 'i']\n",
      "['l', 'y', 'c', 'y', '0', 'y', 'r', 'h']\n",
      "['e', 'y', '1', 'b', 'o', '7', 'g', '2']\n",
      "['k', '4', 'e', 'v', '5', 'r', '3', 'c']\n"
     ]
    }
   ],
   "source": [
    "from random import randint\n",
    "\n",
    "def gen_msg(length, alphabet):\n",
    "    output = [None]*length\n",
    "    for i in range(length):\n",
    "        output[i] = alphabet[randint(0, len(alphabet) - 1)]\n",
    "    return output\n",
    "        \n",
    "for _ in range(5):\n",
    "    print(gen_msg(8, alphabet))"
   ]
  },
  {
   "cell_type": "code",
   "execution_count": 146,
   "metadata": {},
   "outputs": [],
   "source": [
    "def print_results(maxes, mins, avgs):\n",
    "    print(f'Max number of checks: {maxes}')\n",
    "    print(f'Min number of checks: {mins}')\n",
    "    print(f'Avg number of checks: {avgs}')"
   ]
  },
  {
   "cell_type": "code",
   "execution_count": 166,
   "metadata": {},
   "outputs": [],
   "source": [
    "\"\"\" Testing parameters \"\"\"\n",
    "from tqdm import notebook\n",
    "\n",
    "num_trials = 10000\n",
    "\n",
    "all_checks = []\n",
    "\n",
    "msg_lens = range(4, 11)"
   ]
  },
  {
   "cell_type": "code",
   "execution_count": 167,
   "metadata": {},
   "outputs": [
    {
     "data": {
      "application/vnd.jupyter.widget-view+json": {
       "model_id": "d1bd3bc69f4846bd9ddf23dc5e1de590",
       "version_major": 2,
       "version_minor": 0
      },
      "text/plain": [
       "HBox(children=(FloatProgress(value=0.0, max=7.0), HTML(value='')))"
      ]
     },
     "metadata": {},
     "output_type": "display_data"
    },
    {
     "name": "stdout",
     "output_type": "stream",
     "text": [
      "Working on message length 4...\n",
      "Working on message length 5...\n",
      "Working on message length 6...\n",
      "Working on message length 7...\n",
      "Working on message length 8...\n",
      "Working on message length 9...\n",
      "Working on message length 10...\n",
      "\n",
      "Done.\n"
     ]
    }
   ],
   "source": [
    "\"\"\" Method 1: linear search \"\"\"\n",
    "maxes1 = []\n",
    "mins1 = []\n",
    "avgs1 = []\n",
    "\n",
    "for msg_len in notebook.tqdm(msg_lens):\n",
    "    \n",
    "    print(f'Working on message length {msg_len}...')\n",
    "    \n",
    "    all_checks = []\n",
    "\n",
    "    for i in range(num_trials):\n",
    "        msg = gen_msg(msg_len, alphabet)\n",
    "\n",
    "        #print(msg)\n",
    "\n",
    "        checks = 0\n",
    "\n",
    "        for letter in msg:\n",
    "            for j in range(len(alphabet)):\n",
    "                a = alphabet[j]\n",
    "                checks += 1\n",
    "                #print('Is it ', a, '?')\n",
    "                if letter == a:\n",
    "                    break\n",
    "\n",
    "        all_checks.append(checks)\n",
    "\n",
    "    maxes1.append(max(all_checks))\n",
    "    mins1.append(min(all_checks))\n",
    "    avgs1.append(sum(all_checks)/num_trials)\n",
    "    \n",
    "print('Done.')"
   ]
  },
  {
   "cell_type": "code",
   "execution_count": 168,
   "metadata": {
    "scrolled": true
   },
   "outputs": [
    {
     "name": "stdout",
     "output_type": "stream",
     "text": [
      "Max number of checks: [135, 171, 193, 223, 251, 273, 291]\n",
      "Min number of checks: [12, 11, 27, 42, 42, 64, 75]\n",
      "Avg number of checks: [73.8011, 92.6137, 110.7409, 129.4097, 147.8746, 166.648, 184.699]\n"
     ]
    }
   ],
   "source": [
    "print_results(maxes1, mins1, avgs1)"
   ]
  },
  {
   "cell_type": "markdown",
   "metadata": {},
   "source": [
    "### Method 2: Grid search"
   ]
  },
  {
   "cell_type": "code",
   "execution_count": 169,
   "metadata": {},
   "outputs": [],
   "source": [
    "\"\"\" Method 2: Grid search \"\"\"\n",
    "grid = [['a', 'b', 'c', 'd', '1', '2'],\\\n",
    "        ['e', 'f', 'g', 'h', '3', '4'],\\\n",
    "        ['i', 'j', 'k', 'l', 'm', 'n'],\\\n",
    "        ['o', 'p', 'q', 'r', 's', 't'],\\\n",
    "        ['u', 'v', 'w', 'x', 'y', 'z'],\\\n",
    "        ['5', '6', '7', '8', '9', '0']]"
   ]
  },
  {
   "cell_type": "code",
   "execution_count": 170,
   "metadata": {},
   "outputs": [
    {
     "data": {
      "application/vnd.jupyter.widget-view+json": {
       "model_id": "e226e4b935794be4a1cdc5e19c5f5fab",
       "version_major": 2,
       "version_minor": 0
      },
      "text/plain": [
       "HBox(children=(FloatProgress(value=0.0, max=7.0), HTML(value='')))"
      ]
     },
     "metadata": {},
     "output_type": "display_data"
    },
    {
     "name": "stdout",
     "output_type": "stream",
     "text": [
      "Working on message length 4...\n",
      "Working on message length 5...\n",
      "Working on message length 6...\n",
      "Working on message length 7...\n",
      "Working on message length 8...\n",
      "Working on message length 9...\n",
      "Working on message length 10...\n",
      "\n",
      "Done.\n"
     ]
    }
   ],
   "source": [
    "maxes2 = []\n",
    "mins2 = []\n",
    "avgs2 = []\n",
    "\n",
    "for msg_len in notebook.tqdm(msg_lens):\n",
    "    \n",
    "    print(f'Working on message length {msg_len}...')\n",
    "    \n",
    "    all_checks = []\n",
    "\n",
    "    for i in range(num_trials):\n",
    "        msg = gen_msg(msg_len, alphabet)\n",
    "\n",
    "        checks = 0\n",
    "\n",
    "        for letter in msg:\n",
    "            \n",
    "            # Is it in this row?\n",
    "            for row in grid:\n",
    "                checks += 1\n",
    "                if letter in row:\n",
    "                    for char in row:\n",
    "                        checks += 1\n",
    "                        if char == letter:\n",
    "                            break\n",
    "                    break\n",
    "            \n",
    "            \n",
    "        all_checks.append(checks)\n",
    "\n",
    "    maxes2.append(max(all_checks))\n",
    "    mins2.append(min(all_checks))\n",
    "    avgs2.append(sum(all_checks)/num_trials)\n",
    "    \n",
    "print('Done.')"
   ]
  },
  {
   "cell_type": "code",
   "execution_count": 171,
   "metadata": {},
   "outputs": [
    {
     "name": "stdout",
     "output_type": "stream",
     "text": [
      "Max number of checks: [44, 54, 63, 71, 81, 88, 99]\n",
      "Min number of checks: [11, 15, 21, 23, 31, 35, 41]\n",
      "Avg number of checks: [28.0604, 34.9236, 41.9575, 49.0138, 55.9621, 63.0193, 70.1043]\n"
     ]
    }
   ],
   "source": [
    "print_results(maxes2, mins2, avgs2)"
   ]
  },
  {
   "cell_type": "markdown",
   "metadata": {},
   "source": [
    "### Method 3: Binary search"
   ]
  },
  {
   "cell_type": "code",
   "execution_count": 172,
   "metadata": {},
   "outputs": [],
   "source": [
    "def binary_search_count(alphabet, target):\n",
    "    lo = 0\n",
    "    hi = len(alphabet) - 1\n",
    "    mid = None\n",
    "    checks = 0\n",
    "    \n",
    "    while lo <= hi:\n",
    "        mid = lo + ((hi - lo) // 2)\n",
    "        \n",
    "        curr = alphabet[mid]\n",
    "        \n",
    "        # Checking if we landed on the correct letter\n",
    "        checks += 1\n",
    "        if curr == target: return checks\n",
    "        \n",
    "        # To ask someone if it's in the left or right subarray, it takes an additional check\n",
    "        checks += 1\n",
    "        if curr < target: lo = mid + 1\n",
    "            \n",
    "        elif curr > target: hi = mid - 1\n",
    "            \n",
    "        \n",
    "    # target not found\n",
    "    return -1 \n",
    "        "
   ]
  },
  {
   "cell_type": "code",
   "execution_count": 173,
   "metadata": {},
   "outputs": [],
   "source": [
    "def binary_search_count_mod(alphabet, target):\n",
    "    # Reduce expected number of checks by checking if target is in left or subarray first\n",
    "    lo = 0\n",
    "    hi = len(alphabet) - 1\n",
    "    mid = None\n",
    "    checks = 0\n",
    "    \n",
    "    while lo <= hi:\n",
    "        mid = lo + ((hi - lo) // 2)\n",
    "        \n",
    "        curr = alphabet[mid]\n",
    "        \n",
    "        # \"Is it in the left?\"\n",
    "        checks += 1\n",
    "        if curr > target: \n",
    "            hi = mid - 1\n",
    "            \n",
    "        # \"Is it in the right?\"\n",
    "        elif curr < target:\n",
    "            checks += 1\n",
    "            lo = mid + 1\n",
    "            \n",
    "        # \"Not in the left or the right? This must be it\"\n",
    "        else:\n",
    "            return checks\n",
    "            \n",
    "        \n",
    "    # target not found\n",
    "    return -1 \n",
    "        "
   ]
  },
  {
   "cell_type": "code",
   "execution_count": 174,
   "metadata": {},
   "outputs": [
    {
     "data": {
      "application/vnd.jupyter.widget-view+json": {
       "model_id": "50c7d485e581415892e6e0fdbcd08008",
       "version_major": 2,
       "version_minor": 0
      },
      "text/plain": [
       "HBox(children=(FloatProgress(value=0.0, max=7.0), HTML(value='')))"
      ]
     },
     "metadata": {},
     "output_type": "display_data"
    },
    {
     "name": "stdout",
     "output_type": "stream",
     "text": [
      "Working on message length 4...\n",
      "Working on message length 5...\n",
      "Working on message length 6...\n",
      "Working on message length 7...\n",
      "Working on message length 8...\n",
      "Working on message length 9...\n",
      "Working on message length 10...\n",
      "\n",
      "Done.\n"
     ]
    }
   ],
   "source": [
    "maxes3 = []\n",
    "mins3 = []\n",
    "avgs3 = []\n",
    "\n",
    "maxes3mod = []\n",
    "mins3mod = []\n",
    "avgs3mod = []\n",
    "\n",
    "\"\"\"\n",
    "Communication algorithm to determine 1 character in the message:\n",
    "0. If array of possible characters is of size 1, you found the character (Done). Else, go to 1.\n",
    "1. Ask if letter is to the left of mid. If yes, go to 3. Else, go to 2.\n",
    "2. Ask if letter is to the right of mid. If yes, go to 3. Else, the letter is at mid (Done).\n",
    "3. Reposition left, mid, and hi. Go to 0.\n",
    "\n",
    "\"\"\"\n",
    "\n",
    "for msg_len in notebook.tqdm(msg_lens):\n",
    "    \n",
    "    print(f'Working on message length {msg_len}...')\n",
    "    \n",
    "    all_checks = []\n",
    "    all_checks_mod = []\n",
    "\n",
    "    for i in range(num_trials):\n",
    "        msg = gen_msg(msg_len, alphabet)\n",
    "        checks = 0\n",
    "        checks_mod = 0\n",
    "        \n",
    "        for letter in msg:\n",
    "        \n",
    "            checks += binary_search_count(alphabet, letter)   \n",
    "            checks_mod += binary_search_count_mod(alphabet, letter)\n",
    "            \n",
    "        all_checks.append(checks)\n",
    "        all_checks_mod.append(checks_mod)\n",
    "\n",
    "    maxes3.append(max(all_checks))\n",
    "    mins3.append(min(all_checks))\n",
    "    avgs3.append(sum(all_checks)/num_trials)\n",
    "    \n",
    "    maxes3mod.append(max(all_checks_mod))\n",
    "    mins3mod.append(min(all_checks_mod))\n",
    "    avgs3mod.append(sum(all_checks_mod)/num_trials)\n",
    "    \n",
    "print('Done.')"
   ]
  },
  {
   "cell_type": "code",
   "execution_count": 175,
   "metadata": {
    "scrolled": true
   },
   "outputs": [
    {
     "name": "stdout",
     "output_type": "stream",
     "text": [
      "Max number of checks: [44, 53, 62, 73, 82, 91, 102]\n",
      "Min number of checks: [10, 15, 20, 29, 32, 41, 44]\n",
      "Avg number of checks: [31.3554, 39.161, 47.1094, 54.734, 62.6668, 70.3104, 78.3364]\n",
      "\n",
      " ==================== \n",
      "\n",
      "Max number of checks: [41, 49, 57, 67, 76, 81, 89]\n",
      "Min number of checks: [9, 13, 16, 22, 28, 29, 36]\n",
      "Avg number of checks: [25.3175, 31.6825, 38.0735, 44.2273, 50.6955, 56.8382, 63.2938]\n"
     ]
    }
   ],
   "source": [
    "print_results(maxes3, mins3, avgs3)\n",
    "print('\\n', '='*20, '\\n')\n",
    "print_results(maxes3mod, mins3mod, avgs3mod)"
   ]
  },
  {
   "cell_type": "markdown",
   "metadata": {},
   "source": [
    "# Using real words"
   ]
  },
  {
   "cell_type": "markdown",
   "metadata": {},
   "source": [
    "### Method 1+/2+: Letter-frequency ordered search"
   ]
  },
  {
   "cell_type": "code",
   "execution_count": 176,
   "metadata": {},
   "outputs": [],
   "source": [
    "\"\"\" Load vocab \"\"\"\n",
    "import spacy\n",
    "\n",
    "nlp = spacy.load(\"en_core_web_md\")\n",
    "\n",
    "vocab = list(nlp.vocab.strings)"
   ]
  },
  {
   "cell_type": "code",
   "execution_count": 177,
   "metadata": {},
   "outputs": [],
   "source": [
    "alphabet_p = ['e', 't', 'a', 'r', 'i', 'o', 'n', 's', 'h', 'd', 'l', 'u', 'w', 'm', 'f', 'c',\\\n",
    "            'g', 'y', 'p', 'b', 'k', 'v', 'j', 'x', 'q', 'z', '0', '1', '2', '3', '4', '5',\\\n",
    "            '6', '7', '8', '9']"
   ]
  },
  {
   "cell_type": "code",
   "execution_count": 178,
   "metadata": {},
   "outputs": [
    {
     "name": "stdout",
     "output_type": "stream",
     "text": [
      "Vocab words (initially):  1476043\n",
      "Vocab words (pre-processed):  423759\n"
     ]
    }
   ],
   "source": [
    "print('Vocab words (initially): ', len(vocab))\n",
    "\n",
    "vocab = [x.lower() for x in vocab]\n",
    "\n",
    "vocab_clean = set()\n",
    "\n",
    "for word in vocab:\n",
    "    invalid = False\n",
    "    for char in word:\n",
    "        if char not in alphabet_p:\n",
    "            invalid = True\n",
    "            break\n",
    "    if not invalid:\n",
    "        vocab_clean.add(word)\n",
    "            \n",
    "print('Vocab words (pre-processed): ', len(vocab_clean))"
   ]
  },
  {
   "cell_type": "code",
   "execution_count": 179,
   "metadata": {},
   "outputs": [],
   "source": [
    "from collections import Counter\n",
    "\n",
    "lengths = [len(x) for x in vocab_clean]\n",
    "counter = Counter(lengths)"
   ]
  },
  {
   "cell_type": "code",
   "execution_count": 180,
   "metadata": {},
   "outputs": [
    {
     "name": "stdout",
     "output_type": "stream",
     "text": [
      "Words of length 4 in vocab: 37111\n",
      "Words of length 5 in vocab: 48166\n",
      "Words of length 6 in vocab: 60315\n",
      "Words of length 7 in vocab: 63051\n",
      "Words of length 8 in vocab: 57974\n",
      "Words of length 9 in vocab: 47256\n",
      "Words of length 10 in vocab: 34636\n"
     ]
    }
   ],
   "source": [
    "for length in msg_lens:\n",
    "    print(f'Words of length {length} in vocab: {counter[length]}')"
   ]
  },
  {
   "cell_type": "code",
   "execution_count": 181,
   "metadata": {},
   "outputs": [],
   "source": [
    "from collections import defaultdict \n",
    "\n",
    "vocab_final = defaultdict(set)\n",
    "\n",
    "for word in vocab_clean:\n",
    "    length = len(word)\n",
    "    vocab_final[length].add(word)"
   ]
  },
  {
   "cell_type": "code",
   "execution_count": 182,
   "metadata": {},
   "outputs": [],
   "source": [
    "from random import sample\n",
    "\n",
    "def get_word(vocab, msg_length):\n",
    "    return sample(vocab[msg_length], 1)[0]"
   ]
  },
  {
   "cell_type": "code",
   "execution_count": 183,
   "metadata": {},
   "outputs": [
    {
     "data": {
      "text/plain": [
       "'dongbu'"
      ]
     },
     "execution_count": 183,
     "metadata": {},
     "output_type": "execute_result"
    }
   ],
   "source": [
    "get_word(vocab_final, 6)"
   ]
  },
  {
   "cell_type": "code",
   "execution_count": 184,
   "metadata": {},
   "outputs": [
    {
     "data": {
      "application/vnd.jupyter.widget-view+json": {
       "model_id": "a627c286da404ec39367d673db250bdf",
       "version_major": 2,
       "version_minor": 0
      },
      "text/plain": [
       "HBox(children=(FloatProgress(value=0.0, max=7.0), HTML(value='')))"
      ]
     },
     "metadata": {},
     "output_type": "display_data"
    },
    {
     "name": "stdout",
     "output_type": "stream",
     "text": [
      "Working on message length 4...\n",
      "Working on message length 5...\n",
      "Working on message length 6...\n",
      "Working on message length 7...\n",
      "Working on message length 8...\n",
      "Working on message length 9...\n",
      "Working on message length 10...\n",
      "\n",
      "Done.\n"
     ]
    }
   ],
   "source": [
    "\"\"\" Method 1+: Frequency linear search \"\"\"\n",
    "\n",
    "maxes1p = []\n",
    "mins1p = []\n",
    "avgs1p = []\n",
    "\n",
    "for msg_len in notebook.tqdm(msg_lens):\n",
    "    \n",
    "    print(f'Working on message length {msg_len}...')\n",
    "    \n",
    "    all_checks = []\n",
    "\n",
    "    for i in range(num_trials):\n",
    "        msg = get_word(vocab_final, msg_len)\n",
    "\n",
    "        #print(msg)\n",
    "\n",
    "        checks = 0\n",
    "\n",
    "        for letter in msg:\n",
    "            for j in range(len(alphabet_p)):\n",
    "                a = alphabet_p[j]\n",
    "                checks += 1\n",
    "                #print('Is it ', a, '?')\n",
    "                if letter == a:\n",
    "                    break\n",
    "\n",
    "        all_checks.append(checks)\n",
    "\n",
    "    maxes1p.append(max(all_checks))\n",
    "    mins1p.append(min(all_checks))\n",
    "    avgs1p.append(sum(all_checks)/num_trials)\n",
    "    \n",
    "print('Done.')"
   ]
  },
  {
   "cell_type": "code",
   "execution_count": 185,
   "metadata": {},
   "outputs": [
    {
     "name": "stdout",
     "output_type": "stream",
     "text": [
      "Max number of checks: [144, 171, 180, 227, 280, 278, 328]\n",
      "Min number of checks: [6, 6, 11, 8, 20, 9, 21]\n",
      "Avg number of checks: [57.4634, 50.978, 53.9291, 59.9236, 67.0021, 73.8359, 81.0239]\n"
     ]
    }
   ],
   "source": [
    "print_results(maxes1p, mins1p, avgs1p)"
   ]
  },
  {
   "cell_type": "code",
   "execution_count": 186,
   "metadata": {},
   "outputs": [],
   "source": [
    "\"\"\" Method 2+: Frequency Grid search \"\"\"\n",
    "grid_p = [['e', 't', 'r', 'n', '0', '1'],\\\n",
    "        ['a', 'i', 's', 'l', '2', '3'],\\\n",
    "        ['o', 'h', 'u', 'f', 'y', 'k'],\\\n",
    "        ['d', 'w', 'c', 'p', 'v', 'x'],\\\n",
    "        ['m', 'g', 'b', 'j', 'q', 'z'],\\\n",
    "        ['4', '5', '6', '7', '8', '9']]"
   ]
  },
  {
   "cell_type": "code",
   "execution_count": 187,
   "metadata": {},
   "outputs": [
    {
     "data": {
      "application/vnd.jupyter.widget-view+json": {
       "model_id": "817e79e0f31c45b7ba9b054e42dcee41",
       "version_major": 2,
       "version_minor": 0
      },
      "text/plain": [
       "HBox(children=(FloatProgress(value=0.0, max=7.0), HTML(value='')))"
      ]
     },
     "metadata": {},
     "output_type": "display_data"
    },
    {
     "name": "stdout",
     "output_type": "stream",
     "text": [
      "Working on message length 4...\n",
      "Working on message length 5...\n",
      "Working on message length 6...\n",
      "Working on message length 7...\n",
      "Working on message length 8...\n",
      "Working on message length 9...\n",
      "Working on message length 10...\n",
      "\n",
      "Done.\n"
     ]
    }
   ],
   "source": [
    "maxes2p = []\n",
    "mins2p = []\n",
    "avgs2p = []\n",
    "\n",
    "for msg_len in notebook.tqdm(msg_lens):\n",
    "    \n",
    "    print(f'Working on message length {msg_len}...')\n",
    "    \n",
    "    all_checks = []\n",
    "\n",
    "    for i in range(num_trials):\n",
    "        msg = get_word(vocab_final, msg_len)\n",
    "\n",
    "        checks = 0\n",
    "\n",
    "        for letter in msg:\n",
    "            \n",
    "            # Is it in this row?\n",
    "            for row in grid_p:\n",
    "                checks += 1\n",
    "                if letter in row:\n",
    "                    for char in row:\n",
    "                        checks += 1\n",
    "                        if char == letter:\n",
    "                            break\n",
    "                    break\n",
    "            \n",
    "            \n",
    "        all_checks.append(checks)\n",
    "\n",
    "    maxes2p.append(max(all_checks))\n",
    "    mins2p.append(min(all_checks))\n",
    "    avgs2p.append(sum(all_checks)/num_trials)\n",
    "    \n",
    "print('Done.')"
   ]
  },
  {
   "cell_type": "code",
   "execution_count": 188,
   "metadata": {},
   "outputs": [
    {
     "name": "stdout",
     "output_type": "stream",
     "text": [
      "Max number of checks: [47, 54, 72, 84, 75, 91, 100]\n",
      "Min number of checks: [11, 10, 12, 19, 16, 22, 23]\n",
      "Avg number of checks: [23.4301, 25.9043, 29.6224, 34.0896, 38.5815, 42.9432, 47.5094]\n"
     ]
    }
   ],
   "source": [
    "print_results(maxes2p, mins2p, avgs2p)"
   ]
  },
  {
   "cell_type": "markdown",
   "metadata": {},
   "source": [
    "### Method 4: Prefix tree"
   ]
  },
  {
   "cell_type": "code",
   "execution_count": 189,
   "metadata": {},
   "outputs": [],
   "source": [
    "def make_prefix_tree(words):\n",
    "    # https://stackoverflow.com/questions/11015320/how-to-create-a-trie-in-python\n",
    "    root = dict()\n",
    "    end = '_end_' # Special flag indicating end of a word\n",
    "    \n",
    "    for word in words:\n",
    "        current_dict = root\n",
    "        for letter in word:\n",
    "            current_dict = current_dict.setdefault(letter, {})\n",
    "        current_dict[end] = end\n",
    "    \n",
    "    return root"
   ]
  },
  {
   "cell_type": "code",
   "execution_count": 190,
   "metadata": {},
   "outputs": [],
   "source": [
    "pt = make_prefix_tree(['car', 'card', 'cars'])"
   ]
  },
  {
   "cell_type": "code",
   "execution_count": 191,
   "metadata": {},
   "outputs": [
    {
     "data": {
      "text/plain": [
       "{'_end_': '_end_', 'd': {'_end_': '_end_'}, 's': {'_end_': '_end_'}}"
      ]
     },
     "execution_count": 191,
     "metadata": {},
     "output_type": "execute_result"
    }
   ],
   "source": [
    "pt['c']['a']['r']"
   ]
  },
  {
   "cell_type": "code",
   "execution_count": 192,
   "metadata": {},
   "outputs": [],
   "source": [
    "pt = make_prefix_tree(vocab_clean) # vocab_clean is vocab as a set"
   ]
  },
  {
   "cell_type": "code",
   "execution_count": 193,
   "metadata": {},
   "outputs": [],
   "source": [
    "alphabet_p = ['e', 't', 'a', 'r', 'i', 'o', 'n', 's', 'h', 'd', 'l', 'u', 'w', 'm', 'f', 'c',\\\n",
    "            'g', 'y', 'p', 'b', 'k', 'v', 'j', 'x', 'q', 'z', '0', '1', '2', '3', '4', '5',\\\n",
    "            '6', '7', '8', '9', '_end_']"
   ]
  },
  {
   "cell_type": "code",
   "execution_count": 194,
   "metadata": {},
   "outputs": [],
   "source": [
    "def found_early(rem_word, curr_dict):\n",
    "    next_dict = curr_dict[rem_word[0]]\n",
    "    num_branches = len(next_dict.keys())\n",
    "    \n",
    "    singular = False\n",
    "    if len(rem_word) > 1:\n",
    "        singular = found_early(rem_word[1:], next_dict)\n",
    "        \n",
    "    else:\n",
    "        if num_branches == 1 and '_end_' in next_dict.keys():\n",
    "            singular = True\n",
    "            \n",
    "    return singular"
   ]
  },
  {
   "cell_type": "code",
   "execution_count": 195,
   "metadata": {},
   "outputs": [
    {
     "data": {
      "application/vnd.jupyter.widget-view+json": {
       "model_id": "bae51d67721b4e3996a263ab6a3abe9f",
       "version_major": 2,
       "version_minor": 0
      },
      "text/plain": [
       "HBox(children=(FloatProgress(value=0.0, max=7.0), HTML(value='')))"
      ]
     },
     "metadata": {},
     "output_type": "display_data"
    },
    {
     "name": "stdout",
     "output_type": "stream",
     "text": [
      "Working on message length 4...\n",
      "Working on message length 5...\n",
      "Working on message length 6...\n",
      "Working on message length 7...\n",
      "Working on message length 8...\n",
      "Working on message length 9...\n",
      "Working on message length 10...\n",
      "\n",
      "Done.\n"
     ]
    }
   ],
   "source": [
    "maxes4 = []\n",
    "mins4 = []\n",
    "avgs4 = []\n",
    "end = '_end_'\n",
    "all_early_finds = []\n",
    "\n",
    "for msg_len in notebook.tqdm(msg_lens):\n",
    "    \n",
    "    print(f'Working on message length {msg_len}...')\n",
    "    \n",
    "    all_checks = []\n",
    "    early_finds = 0\n",
    "\n",
    "    for i in range(num_trials):\n",
    "        msg = get_word(vocab_final, msg_len)\n",
    "\n",
    "        checks = 0\n",
    "\n",
    "        curr_dict = pt\n",
    "        \n",
    "        for j in range(msg_len-1):\n",
    "                \n",
    "            letter = msg[j]\n",
    "            next_letter = msg[j+1]\n",
    "            \n",
    "            curr_dict = curr_dict[letter]\n",
    "            \n",
    "            num_branches = len(curr_dict)\n",
    "            \n",
    "            if num_branches == 1 and end in curr_dict:\n",
    "                # Word found, no need for another check\n",
    "                break\n",
    "                \n",
    "            elif num_branches == 1 and end not in curr_dict: \n",
    "                # Did you find the word early?\n",
    "                singular = found_early(msg[j+1:], curr_dict)\n",
    "                if singular: \n",
    "                    early_finds += 1\n",
    "                    break\n",
    "\n",
    "            for branch in sorted(curr_dict.keys(), key = lambda x: alphabet_p.index(x)): \n",
    "                checks += 1\n",
    "                if branch == next_letter:\n",
    "                    # Found the next letter of the word\n",
    "                    break\n",
    "                        \n",
    "        curr_dict = curr_dict[next_letter]\n",
    "        \n",
    "        for branch in sorted(curr_dict.keys(), key = lambda x: alphabet_p.index(x)): \n",
    "            checks += 1\n",
    "            if branch == next_letter:\n",
    "                break\n",
    "        \n",
    "        #if checks < msg_len:\n",
    "        #    print(checks, msg)\n",
    "                        \n",
    "            \n",
    "            \n",
    "        all_checks.append(checks)\n",
    "\n",
    "    maxes4.append(max(all_checks))\n",
    "    mins4.append(min(all_checks))\n",
    "    avgs4.append(sum(all_checks)/num_trials)\n",
    "    all_early_finds.append(early_finds)\n",
    "    \n",
    "print('Done.')"
   ]
  },
  {
   "cell_type": "code",
   "execution_count": 196,
   "metadata": {},
   "outputs": [
    {
     "name": "stdout",
     "output_type": "stream",
     "text": [
      "Max number of checks: [95, 107, 103, 112, 105, 96, 119]\n",
      "Min number of checks: [3, 5, 6, 6, 6, 7, 6]\n",
      "Avg number of checks: [33.8096, 29.8665, 29.4275, 30.4458, 31.848, 33.2334, 34.3684]\n",
      "Early finds (%):  [2.34, 13.35, 31.52, 51.17, 65.12, 73.28, 78.09]\n"
     ]
    }
   ],
   "source": [
    "print_results(maxes4, mins4, avgs4)\n",
    "print('Early finds (%): ', [x*100/num_trials for x in all_early_finds])"
   ]
  },
  {
   "cell_type": "markdown",
   "metadata": {},
   "source": [
    "### Method 5: NLP"
   ]
  },
  {
   "cell_type": "code",
   "execution_count": null,
   "metadata": {},
   "outputs": [],
   "source": [
    "# I leave this as an exercise to the reader (:"
   ]
  },
  {
   "cell_type": "markdown",
   "metadata": {},
   "source": [
    "# Plotting results"
   ]
  },
  {
   "cell_type": "code",
   "execution_count": 197,
   "metadata": {},
   "outputs": [],
   "source": [
    "import matplotlib.pyplot as plt"
   ]
  },
  {
   "cell_type": "code",
   "execution_count": 209,
   "metadata": {},
   "outputs": [
    {
     "data": {
      "text/plain": [
       "Text(0, 0.5, 'Average checks needed')"
      ]
     },
     "execution_count": 209,
     "metadata": {},
     "output_type": "execute_result"
    },
    {
     "data": {
      "image/png": "[encoded data removed]",
      "text/plain": [
       "<Figure size 432x288 with 1 Axes>"
      ]
     },
     "metadata": {
      "needs_background": "light"
     },
     "output_type": "display_data"
    }
   ],
   "source": [
    "plt.plot(msg_lens, avgs1)\n",
    "plt.plot(msg_lens, avgs2)\n",
    "plt.plot(msg_lens, avgs3)\n",
    "plt.plot(msg_lens, avgs1p, linestyle='dashed')\n",
    "plt.plot(msg_lens, avgs2p, linestyle='dashed')\n",
    "plt.plot(msg_lens, avgs4, linestyle='dashed')\n",
    "plt.legend(['linear', 'grid', 'binary search', 'linear (freq)', 'grid (freq)', 'prefix tree'])\n",
    "plt.xlabel('Word length')\n",
    "plt.ylabel('Average checks needed')"
   ]
  },
  {
   "cell_type": "code",
   "execution_count": 205,
   "metadata": {},
   "outputs": [
    {
     "data": {
      "text/plain": [
       "range(4, 11)"
      ]
     },
     "execution_count": 205,
     "metadata": {},
     "output_type": "execute_result"
    }
   ],
   "source": [
    "msg_lens"
   ]
  },
  {
   "cell_type": "markdown",
   "metadata": {},
   "source": [
    "### Appendix"
   ]
  },
  {
   "cell_type": "markdown",
   "metadata": {},
   "source": [
    "Gradient colors, from 2 to 13 steps generated from 2 given gradient endpoints at https://www.colorhexa.com/1eff02-to-ff0000 :\n",
    "\n",
    "1eff02\n",
    "31ea02\n",
    "44d402\n",
    "56bf02\n",
    "69aa01\n",
    "7c9501\n",
    "8e8001\n",
    "a16a01\n",
    "b45501\n",
    "c74001\n",
    "da2b00\n",
    "ec1500\n",
    "ff0000\n",
    "\n",
    "\n",
    "English relative letter frequency: https://en.wikipedia.org/wiki/Letter_frequency"
   ]
  },
  {
   "cell_type": "code",
   "execution_count": null,
   "metadata": {},
   "outputs": [],
   "source": []
  }
 ],
 "metadata": {
  "kernelspec": {
   "display_name": "Python 3",
   "language": "python",
   "name": "python3"
  },
  "language_info": {
   "codemirror_mode": {
    "name": "ipython",
    "version": 3
   },
   "file_extension": ".py",
   "mimetype": "text/x-python",
   "name": "python",
   "nbconvert_exporter": "python",
   "pygments_lexer": "ipython3",
   "version": "3.7.1"
  }
 },
 "nbformat": 4,
 "nbformat_minor": 2
}
